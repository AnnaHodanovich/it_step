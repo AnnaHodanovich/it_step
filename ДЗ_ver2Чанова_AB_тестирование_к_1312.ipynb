{
 "cells": [
  {
   "cell_type": "code",
   "execution_count": 48,
   "id": "feb530f1",
   "metadata": {},
   "outputs": [],
   "source": [
    "import numpy as np\n",
    "import pandas as pd\n",
    "import seaborn as sns\n",
    "import matplotlib.pyplot as plt\n",
    "import os\n",
    "from scipy.stats import shapiro\n",
    "import scipy.stats as stats\n",
    "import warnings"
   ]
  },
  {
   "cell_type": "code",
   "execution_count": 49,
   "id": "64ba7ebc",
   "metadata": {},
   "outputs": [],
   "source": [
    "from scipy.stats import shapiro\n",
    "import scipy.stats as stats\n",
    "import warnings\n",
    "warnings.filterwarnings(\"ignore\")\n",
    "warnings.simplefilter(action='ignore', category=FutureWarning)\n",
    "pd.set_option('display.max_columns', None)\n",
    "pd.options.display.float_format = '{:.4f}'.format"
   ]
  },
  {
   "cell_type": "code",
   "execution_count": 50,
   "id": "cd2c1e85",
   "metadata": {},
   "outputs": [],
   "source": [
    "import numpy as np\n",
    "import pandas as pd\n",
    "from scipy.stats import norm, mannwhitneyu\n",
    "import matplotlib.pyplot as plt\n",
    "from tqdm.auto import tqdm\n",
    "plt.style.use('ggplot')\n",
    "import numpy as np\n",
    "import pandas as pd\n",
    "from scipy import stats\n",
    "import matplotlib.pyplot as plt\n",
    "\n",
    " \n",
    "\n",
    "from tqdm.auto import tqdm"
   ]
  },
  {
   "cell_type": "code",
   "execution_count": 51,
   "id": "06d46df4",
   "metadata": {},
   "outputs": [],
   "source": [
    "ab = pd.read_csv('ab_data.csv.zip')"
   ]
  },
  {
   "cell_type": "code",
   "execution_count": 52,
   "id": "323331fa",
   "metadata": {},
   "outputs": [
    {
     "data": {
      "text/html": [
       "<div>\n",
       "<style scoped>\n",
       "    .dataframe tbody tr th:only-of-type {\n",
       "        vertical-align: middle;\n",
       "    }\n",
       "\n",
       "    .dataframe tbody tr th {\n",
       "        vertical-align: top;\n",
       "    }\n",
       "\n",
       "    .dataframe thead th {\n",
       "        text-align: right;\n",
       "    }\n",
       "</style>\n",
       "<table border=\"1\" class=\"dataframe\">\n",
       "  <thead>\n",
       "    <tr style=\"text-align: right;\">\n",
       "      <th></th>\n",
       "      <th>user_id</th>\n",
       "      <th>timestamp</th>\n",
       "      <th>group</th>\n",
       "      <th>landing_page</th>\n",
       "      <th>converted</th>\n",
       "    </tr>\n",
       "  </thead>\n",
       "  <tbody>\n",
       "    <tr>\n",
       "      <th>0</th>\n",
       "      <td>851104</td>\n",
       "      <td>11:48.6</td>\n",
       "      <td>control</td>\n",
       "      <td>old_page</td>\n",
       "      <td>0</td>\n",
       "    </tr>\n",
       "    <tr>\n",
       "      <th>1</th>\n",
       "      <td>804228</td>\n",
       "      <td>01:45.2</td>\n",
       "      <td>control</td>\n",
       "      <td>old_page</td>\n",
       "      <td>0</td>\n",
       "    </tr>\n",
       "    <tr>\n",
       "      <th>2</th>\n",
       "      <td>661590</td>\n",
       "      <td>55:06.2</td>\n",
       "      <td>treatment</td>\n",
       "      <td>new_page</td>\n",
       "      <td>0</td>\n",
       "    </tr>\n",
       "    <tr>\n",
       "      <th>3</th>\n",
       "      <td>853541</td>\n",
       "      <td>28:03.1</td>\n",
       "      <td>treatment</td>\n",
       "      <td>new_page</td>\n",
       "      <td>0</td>\n",
       "    </tr>\n",
       "    <tr>\n",
       "      <th>4</th>\n",
       "      <td>864975</td>\n",
       "      <td>52:26.2</td>\n",
       "      <td>control</td>\n",
       "      <td>old_page</td>\n",
       "      <td>1</td>\n",
       "    </tr>\n",
       "    <tr>\n",
       "      <th>...</th>\n",
       "      <td>...</td>\n",
       "      <td>...</td>\n",
       "      <td>...</td>\n",
       "      <td>...</td>\n",
       "      <td>...</td>\n",
       "    </tr>\n",
       "    <tr>\n",
       "      <th>294475</th>\n",
       "      <td>734608</td>\n",
       "      <td>45:03.4</td>\n",
       "      <td>control</td>\n",
       "      <td>old_page</td>\n",
       "      <td>0</td>\n",
       "    </tr>\n",
       "    <tr>\n",
       "      <th>294476</th>\n",
       "      <td>697314</td>\n",
       "      <td>20:29.0</td>\n",
       "      <td>control</td>\n",
       "      <td>old_page</td>\n",
       "      <td>0</td>\n",
       "    </tr>\n",
       "    <tr>\n",
       "      <th>294477</th>\n",
       "      <td>715931</td>\n",
       "      <td>40:24.5</td>\n",
       "      <td>treatment</td>\n",
       "      <td>new_page</td>\n",
       "      <td>0</td>\n",
       "    </tr>\n",
       "    <tr>\n",
       "      <th>294478</th>\n",
       "      <td>759899</td>\n",
       "      <td>20:29.0</td>\n",
       "      <td>treatment</td>\n",
       "      <td>new_page</td>\n",
       "      <td>0</td>\n",
       "    </tr>\n",
       "    <tr>\n",
       "      <th>294479</th>\n",
       "      <td>643532</td>\n",
       "      <td>40:24.5</td>\n",
       "      <td>treatment</td>\n",
       "      <td>new_page</td>\n",
       "      <td>0</td>\n",
       "    </tr>\n",
       "  </tbody>\n",
       "</table>\n",
       "<p>294480 rows × 5 columns</p>\n",
       "</div>"
      ],
      "text/plain": [
       "        user_id timestamp      group landing_page  converted\n",
       "0        851104   11:48.6    control     old_page          0\n",
       "1        804228   01:45.2    control     old_page          0\n",
       "2        661590   55:06.2  treatment     new_page          0\n",
       "3        853541   28:03.1  treatment     new_page          0\n",
       "4        864975   52:26.2    control     old_page          1\n",
       "...         ...       ...        ...          ...        ...\n",
       "294475   734608   45:03.4    control     old_page          0\n",
       "294476   697314   20:29.0    control     old_page          0\n",
       "294477   715931   40:24.5  treatment     new_page          0\n",
       "294478   759899   20:29.0  treatment     new_page          0\n",
       "294479   643532   40:24.5  treatment     new_page          0\n",
       "\n",
       "[294480 rows x 5 columns]"
      ]
     },
     "execution_count": 52,
     "metadata": {},
     "output_type": "execute_result"
    }
   ],
   "source": [
    "ab"
   ]
  },
  {
   "cell_type": "code",
   "execution_count": 53,
   "id": "852389a4",
   "metadata": {},
   "outputs": [
    {
     "name": "stdout",
     "output_type": "stream",
     "text": [
      "False\n"
     ]
    }
   ],
   "source": [
    "#проверяем на наличие повторяющихся ID\n",
    "print(ab.user_id.nunique()==ab.shape[0])"
   ]
  },
  {
   "cell_type": "code",
   "execution_count": 54,
   "id": "a8b18ac3",
   "metadata": {},
   "outputs": [
    {
     "data": {
      "text/plain": [
       "290585"
      ]
     },
     "execution_count": 54,
     "metadata": {},
     "output_type": "execute_result"
    }
   ],
   "source": [
    "#удалим \n",
    "ab.user_id.nunique()"
   ]
  },
  {
   "cell_type": "code",
   "execution_count": 55,
   "id": "d6602f9c",
   "metadata": {},
   "outputs": [
    {
     "data": {
      "text/plain": [
       "(294480, 5)"
      ]
     },
     "execution_count": 55,
     "metadata": {},
     "output_type": "execute_result"
    }
   ],
   "source": [
    "ab.shape"
   ]
  },
  {
   "cell_type": "code",
   "execution_count": 56,
   "id": "dc6eecb6",
   "metadata": {},
   "outputs": [
    {
     "data": {
      "text/plain": [
       "1    288690\n",
       "2      1895\n",
       "Name: group, dtype: int64"
      ]
     },
     "execution_count": 56,
     "metadata": {},
     "output_type": "execute_result"
    }
   ],
   "source": [
    "double_variant_count =ab.groupby('user_id')['group'].nunique().value_counts()\n",
    "double_variant_count"
   ]
  },
  {
   "cell_type": "code",
   "execution_count": 57,
   "id": "08f1b9e3",
   "metadata": {},
   "outputs": [
    {
     "data": {
      "text/plain": [
       "1   0.9935\n",
       "2   0.0065\n",
       "Name: group, dtype: float64"
      ]
     },
     "execution_count": 57,
     "metadata": {},
     "output_type": "execute_result"
    }
   ],
   "source": [
    "double_variant_count / double_variant_count.sum()"
   ]
  },
  {
   "cell_type": "code",
   "execution_count": 58,
   "id": "a6634958",
   "metadata": {},
   "outputs": [],
   "source": [
    "#процент дублированных пользователей небольшой, но мы все-таки их удалим\n",
    "single_variant_users = (ab.groupby('user_id')['group'].nunique() == 1)\n",
    "single_variant_users = single_variant_users[single_variant_users]"
   ]
  },
  {
   "cell_type": "code",
   "execution_count": 59,
   "id": "97949c93",
   "metadata": {},
   "outputs": [
    {
     "data": {
      "text/plain": [
       "0.643507199130671"
      ]
     },
     "execution_count": 59,
     "metadata": {},
     "output_type": "execute_result"
    }
   ],
   "source": [
    "3790/2/294480*100"
   ]
  },
  {
   "cell_type": "code",
   "execution_count": 60,
   "id": "8e7e73ba",
   "metadata": {},
   "outputs": [
    {
     "data": {
      "text/plain": [
       "treatment    145383\n",
       "control      145307\n",
       "Name: group, dtype: int64"
      ]
     },
     "execution_count": 60,
     "metadata": {},
     "output_type": "execute_result"
    }
   ],
   "source": [
    "ab = ab[ab['user_id'].isin(single_variant_users.index)]\n",
    "ab.group.value_counts()"
   ]
  },
  {
   "cell_type": "code",
   "execution_count": 61,
   "id": "e36353dc",
   "metadata": {},
   "outputs": [
    {
     "data": {
      "text/plain": [
       "new_page    145399\n",
       "old_page    145291\n",
       "Name: landing_page, dtype: int64"
      ]
     },
     "execution_count": 61,
     "metadata": {},
     "output_type": "execute_result"
    }
   ],
   "source": [
    "ab.landing_page.value_counts()"
   ]
  },
  {
   "cell_type": "code",
   "execution_count": 62,
   "id": "da7d66f0",
   "metadata": {},
   "outputs": [],
   "source": [
    "ab['new']=ab.landing_page+ab.group"
   ]
  },
  {
   "cell_type": "code",
   "execution_count": 63,
   "id": "663f65f2",
   "metadata": {},
   "outputs": [
    {
     "data": {
      "text/plain": [
       "new_pagetreatment    144392\n",
       "old_pagecontrol      144300\n",
       "new_pagecontrol        1007\n",
       "old_pagetreatment       991\n",
       "Name: new, dtype: int64"
      ]
     },
     "execution_count": 63,
     "metadata": {},
     "output_type": "execute_result"
    }
   ],
   "source": [
    "ab.new.value_counts()"
   ]
  },
  {
   "cell_type": "code",
   "execution_count": null,
   "id": "e501a80f",
   "metadata": {},
   "outputs": [],
   "source": [
    " "
   ]
  },
  {
   "cell_type": "markdown",
   "id": "250d4d00",
   "metadata": {},
   "source": [
    "294480 - изначальный размер датасета и итоговый без дублирующих значений - 290690, по 1895 значений удалили из каждой группы"
   ]
  },
  {
   "cell_type": "code",
   "execution_count": 64,
   "id": "83c7b300",
   "metadata": {},
   "outputs": [
    {
     "data": {
      "text/html": [
       "<div>\n",
       "<style scoped>\n",
       "    .dataframe tbody tr th:only-of-type {\n",
       "        vertical-align: middle;\n",
       "    }\n",
       "\n",
       "    .dataframe tbody tr th {\n",
       "        vertical-align: top;\n",
       "    }\n",
       "\n",
       "    .dataframe thead th {\n",
       "        text-align: right;\n",
       "    }\n",
       "</style>\n",
       "<table border=\"1\" class=\"dataframe\">\n",
       "  <thead>\n",
       "    <tr style=\"text-align: right;\">\n",
       "      <th></th>\n",
       "      <th></th>\n",
       "      <th>user_id</th>\n",
       "      <th>timestamp</th>\n",
       "      <th>converted</th>\n",
       "      <th>new</th>\n",
       "    </tr>\n",
       "    <tr>\n",
       "      <th>landing_page</th>\n",
       "      <th>group</th>\n",
       "      <th></th>\n",
       "      <th></th>\n",
       "      <th></th>\n",
       "      <th></th>\n",
       "    </tr>\n",
       "  </thead>\n",
       "  <tbody>\n",
       "    <tr>\n",
       "      <th rowspan=\"2\" valign=\"top\">new_page</th>\n",
       "      <th>control</th>\n",
       "      <td>1007</td>\n",
       "      <td>1007</td>\n",
       "      <td>1007</td>\n",
       "      <td>1007</td>\n",
       "    </tr>\n",
       "    <tr>\n",
       "      <th>treatment</th>\n",
       "      <td>144392</td>\n",
       "      <td>144392</td>\n",
       "      <td>144392</td>\n",
       "      <td>144392</td>\n",
       "    </tr>\n",
       "    <tr>\n",
       "      <th rowspan=\"2\" valign=\"top\">old_page</th>\n",
       "      <th>control</th>\n",
       "      <td>144300</td>\n",
       "      <td>144300</td>\n",
       "      <td>144300</td>\n",
       "      <td>144300</td>\n",
       "    </tr>\n",
       "    <tr>\n",
       "      <th>treatment</th>\n",
       "      <td>991</td>\n",
       "      <td>991</td>\n",
       "      <td>991</td>\n",
       "      <td>991</td>\n",
       "    </tr>\n",
       "  </tbody>\n",
       "</table>\n",
       "</div>"
      ],
      "text/plain": [
       "                        user_id  timestamp  converted     new\n",
       "landing_page group                                           \n",
       "new_page     control       1007       1007       1007    1007\n",
       "             treatment   144392     144392     144392  144392\n",
       "old_page     control     144300     144300     144300  144300\n",
       "             treatment      991        991        991     991"
      ]
     },
     "execution_count": 64,
     "metadata": {},
     "output_type": "execute_result"
    }
   ],
   "source": [
    "ab.groupby(by=['landing_page', 'group']).count()"
   ]
  },
  {
   "cell_type": "code",
   "execution_count": 65,
   "id": "5ce10787",
   "metadata": {},
   "outputs": [
    {
     "data": {
      "text/html": [
       "<div>\n",
       "<style scoped>\n",
       "    .dataframe tbody tr th:only-of-type {\n",
       "        vertical-align: middle;\n",
       "    }\n",
       "\n",
       "    .dataframe tbody tr th {\n",
       "        vertical-align: top;\n",
       "    }\n",
       "\n",
       "    .dataframe thead th {\n",
       "        text-align: right;\n",
       "    }\n",
       "</style>\n",
       "<table border=\"1\" class=\"dataframe\">\n",
       "  <thead>\n",
       "    <tr style=\"text-align: right;\">\n",
       "      <th></th>\n",
       "      <th></th>\n",
       "      <th>converted</th>\n",
       "    </tr>\n",
       "    <tr>\n",
       "      <th>group</th>\n",
       "      <th>converted</th>\n",
       "      <th></th>\n",
       "    </tr>\n",
       "  </thead>\n",
       "  <tbody>\n",
       "    <tr>\n",
       "      <th rowspan=\"2\" valign=\"top\">control</th>\n",
       "      <th>0</th>\n",
       "      <td>127820</td>\n",
       "    </tr>\n",
       "    <tr>\n",
       "      <th>1</th>\n",
       "      <td>17487</td>\n",
       "    </tr>\n",
       "    <tr>\n",
       "      <th rowspan=\"2\" valign=\"top\">treatment</th>\n",
       "      <th>0</th>\n",
       "      <td>128093</td>\n",
       "    </tr>\n",
       "    <tr>\n",
       "      <th>1</th>\n",
       "      <td>17290</td>\n",
       "    </tr>\n",
       "  </tbody>\n",
       "</table>\n",
       "</div>"
      ],
      "text/plain": [
       "                     converted\n",
       "group     converted           \n",
       "control   0             127820\n",
       "          1              17487\n",
       "treatment 0             128093\n",
       "          1              17290"
      ]
     },
     "execution_count": 65,
     "metadata": {},
     "output_type": "execute_result"
    }
   ],
   "source": [
    "#посчитаем количество конвертированных и неконвертированных пользователей в тестовой и контрольной группах\n",
    "ab.groupby(['group', 'converted']).agg({'converted': 'count'})"
   ]
  },
  {
   "cell_type": "code",
   "execution_count": 66,
   "id": "5aa3931a",
   "metadata": {},
   "outputs": [
    {
     "data": {
      "text/html": [
       "<div>\n",
       "<style scoped>\n",
       "    .dataframe tbody tr th:only-of-type {\n",
       "        vertical-align: middle;\n",
       "    }\n",
       "\n",
       "    .dataframe tbody tr th {\n",
       "        vertical-align: top;\n",
       "    }\n",
       "\n",
       "    .dataframe thead th {\n",
       "        text-align: right;\n",
       "    }\n",
       "</style>\n",
       "<table border=\"1\" class=\"dataframe\">\n",
       "  <thead>\n",
       "    <tr style=\"text-align: right;\">\n",
       "      <th></th>\n",
       "      <th></th>\n",
       "      <th>converted</th>\n",
       "    </tr>\n",
       "    <tr>\n",
       "      <th>landing_page</th>\n",
       "      <th>converted</th>\n",
       "      <th></th>\n",
       "    </tr>\n",
       "  </thead>\n",
       "  <tbody>\n",
       "    <tr>\n",
       "      <th rowspan=\"2\" valign=\"top\">new_page</th>\n",
       "      <th>0</th>\n",
       "      <td>128114</td>\n",
       "    </tr>\n",
       "    <tr>\n",
       "      <th>1</th>\n",
       "      <td>17285</td>\n",
       "    </tr>\n",
       "    <tr>\n",
       "      <th rowspan=\"2\" valign=\"top\">old_page</th>\n",
       "      <th>0</th>\n",
       "      <td>127799</td>\n",
       "    </tr>\n",
       "    <tr>\n",
       "      <th>1</th>\n",
       "      <td>17492</td>\n",
       "    </tr>\n",
       "  </tbody>\n",
       "</table>\n",
       "</div>"
      ],
      "text/plain": [
       "                        converted\n",
       "landing_page converted           \n",
       "new_page     0             128114\n",
       "             1              17285\n",
       "old_page     0             127799\n",
       "             1              17492"
      ]
     },
     "execution_count": 66,
     "metadata": {},
     "output_type": "execute_result"
    }
   ],
   "source": [
    "#посчитаем количество конвертированных и неконвертированных пользователей в тестовой и контрольной группах\n",
    "ab.groupby(['landing_page', 'converted']).agg({'converted': 'count'})"
   ]
  },
  {
   "cell_type": "code",
   "execution_count": 67,
   "id": "b80469e7",
   "metadata": {},
   "outputs": [],
   "source": [
    "# get metrics by groups\n",
    "all_stat = ab.groupby(by='group').agg({'group': 'nunique',\n",
    "                                               'converted': ['sum', 'mean', 'median', 'count']})"
   ]
  },
  {
   "cell_type": "code",
   "execution_count": 68,
   "id": "78891aaf",
   "metadata": {},
   "outputs": [
    {
     "data": {
      "text/html": [
       "<div>\n",
       "<style scoped>\n",
       "    .dataframe tbody tr th:only-of-type {\n",
       "        vertical-align: middle;\n",
       "    }\n",
       "\n",
       "    .dataframe tbody tr th {\n",
       "        vertical-align: top;\n",
       "    }\n",
       "\n",
       "    .dataframe thead tr th {\n",
       "        text-align: left;\n",
       "    }\n",
       "\n",
       "    .dataframe thead tr:last-of-type th {\n",
       "        text-align: right;\n",
       "    }\n",
       "</style>\n",
       "<table border=\"1\" class=\"dataframe\">\n",
       "  <thead>\n",
       "    <tr>\n",
       "      <th></th>\n",
       "      <th>group</th>\n",
       "      <th colspan=\"4\" halign=\"left\">converted</th>\n",
       "    </tr>\n",
       "    <tr>\n",
       "      <th></th>\n",
       "      <th>nunique</th>\n",
       "      <th>sum</th>\n",
       "      <th>mean</th>\n",
       "      <th>median</th>\n",
       "      <th>count</th>\n",
       "    </tr>\n",
       "    <tr>\n",
       "      <th>group</th>\n",
       "      <th></th>\n",
       "      <th></th>\n",
       "      <th></th>\n",
       "      <th></th>\n",
       "      <th></th>\n",
       "    </tr>\n",
       "  </thead>\n",
       "  <tbody>\n",
       "    <tr>\n",
       "      <th>control</th>\n",
       "      <td>1</td>\n",
       "      <td>17487</td>\n",
       "      <td>0.1203</td>\n",
       "      <td>0.0000</td>\n",
       "      <td>145307</td>\n",
       "    </tr>\n",
       "    <tr>\n",
       "      <th>treatment</th>\n",
       "      <td>1</td>\n",
       "      <td>17290</td>\n",
       "      <td>0.1189</td>\n",
       "      <td>0.0000</td>\n",
       "      <td>145383</td>\n",
       "    </tr>\n",
       "  </tbody>\n",
       "</table>\n",
       "</div>"
      ],
      "text/plain": [
       "            group converted                      \n",
       "          nunique       sum   mean median   count\n",
       "group                                            \n",
       "control         1     17487 0.1203 0.0000  145307\n",
       "treatment       1     17290 0.1189 0.0000  145383"
      ]
     },
     "execution_count": 68,
     "metadata": {},
     "output_type": "execute_result"
    }
   ],
   "source": [
    "all_stat"
   ]
  },
  {
   "cell_type": "code",
   "execution_count": 69,
   "id": "c4dc6dc9",
   "metadata": {},
   "outputs": [],
   "source": [
    "# get metrics by groups\n",
    "all_stat_2 = ab.groupby(by='landing_page').agg({'landing_page': 'nunique',\n",
    "                                               'converted': ['sum', 'mean', 'median', 'count']})"
   ]
  },
  {
   "cell_type": "code",
   "execution_count": 70,
   "id": "75fa11d5",
   "metadata": {},
   "outputs": [
    {
     "data": {
      "text/html": [
       "<div>\n",
       "<style scoped>\n",
       "    .dataframe tbody tr th:only-of-type {\n",
       "        vertical-align: middle;\n",
       "    }\n",
       "\n",
       "    .dataframe tbody tr th {\n",
       "        vertical-align: top;\n",
       "    }\n",
       "\n",
       "    .dataframe thead tr th {\n",
       "        text-align: left;\n",
       "    }\n",
       "\n",
       "    .dataframe thead tr:last-of-type th {\n",
       "        text-align: right;\n",
       "    }\n",
       "</style>\n",
       "<table border=\"1\" class=\"dataframe\">\n",
       "  <thead>\n",
       "    <tr>\n",
       "      <th></th>\n",
       "      <th>landing_page</th>\n",
       "      <th colspan=\"4\" halign=\"left\">converted</th>\n",
       "    </tr>\n",
       "    <tr>\n",
       "      <th></th>\n",
       "      <th>nunique</th>\n",
       "      <th>sum</th>\n",
       "      <th>mean</th>\n",
       "      <th>median</th>\n",
       "      <th>count</th>\n",
       "    </tr>\n",
       "    <tr>\n",
       "      <th>landing_page</th>\n",
       "      <th></th>\n",
       "      <th></th>\n",
       "      <th></th>\n",
       "      <th></th>\n",
       "      <th></th>\n",
       "    </tr>\n",
       "  </thead>\n",
       "  <tbody>\n",
       "    <tr>\n",
       "      <th>new_page</th>\n",
       "      <td>1</td>\n",
       "      <td>17285</td>\n",
       "      <td>0.1189</td>\n",
       "      <td>0.0000</td>\n",
       "      <td>145399</td>\n",
       "    </tr>\n",
       "    <tr>\n",
       "      <th>old_page</th>\n",
       "      <td>1</td>\n",
       "      <td>17492</td>\n",
       "      <td>0.1204</td>\n",
       "      <td>0.0000</td>\n",
       "      <td>145291</td>\n",
       "    </tr>\n",
       "  </tbody>\n",
       "</table>\n",
       "</div>"
      ],
      "text/plain": [
       "             landing_page converted                      \n",
       "                  nunique       sum   mean median   count\n",
       "landing_page                                             \n",
       "new_page                1     17285 0.1189 0.0000  145399\n",
       "old_page                1     17492 0.1204 0.0000  145291"
      ]
     },
     "execution_count": 70,
     "metadata": {},
     "output_type": "execute_result"
    }
   ],
   "source": [
    "all_stat_2"
   ]
  },
  {
   "cell_type": "code",
   "execution_count": 71,
   "id": "68ea179a",
   "metadata": {},
   "outputs": [
    {
     "data": {
      "text/plain": [
       "MannwhitneyuResult(statistic=10547606545.0, pvalue=0.23886297613408058)"
      ]
     },
     "execution_count": 71,
     "metadata": {},
     "output_type": "execute_result"
    }
   ],
   "source": [
    "#проводим непараметрический тест для анализа статистической разницы на контрольной и тестовой группах\n",
    "mannwhitneyu(ab.loc[ab.group == 'treatment', 'converted'], ab.loc[ab.group == 'control', 'converted'])"
   ]
  },
  {
   "cell_type": "code",
   "execution_count": 72,
   "id": "977267cc",
   "metadata": {},
   "outputs": [
    {
     "data": {
      "text/plain": [
       "MannwhitneyuResult(statistic=10578565241.0, pvalue=0.2088030012936527)"
      ]
     },
     "execution_count": 72,
     "metadata": {},
     "output_type": "execute_result"
    }
   ],
   "source": [
    "#проводим непараметрический тест для анализа статистической разницы на группе old_page и new_page\n",
    "mannwhitneyu(ab.loc[ab.landing_page == 'old_page', 'converted'], ab.loc[ab.landing_page == 'new_page', 'converted'])"
   ]
  },
  {
   "cell_type": "markdown",
   "id": "8c76feba",
   "metadata": {},
   "source": [
    "p-value больше 0.05 - принимаем нулевую гипотезу - разница статистически не значима."
   ]
  },
  {
   "cell_type": "markdown",
   "id": "08425f4b",
   "metadata": {},
   "source": [
    "Попробуем провести анализ bootstrap"
   ]
  },
  {
   "cell_type": "code",
   "execution_count": 73,
   "id": "69f243ba",
   "metadata": {},
   "outputs": [],
   "source": [
    "# Объявим функцию, которая позволит проверять гипотезы с помощью бутстрапа\n",
    "def get_bootstrap(\n",
    "    column_1, # числовые значения первой выборки\n",
    "    column_2, # числовые значения второй выборки\n",
    "    boot_it = 1000, # количество бутстрэп-подвыборок\n",
    "    statistic = np.mean, # интересующая нас статистика\n",
    "    bootstrap_conf_level = 0.95 # уровень значимости\n",
    "):\n",
    "    boot_len = max([len(column_1), len(column_2)])\n",
    "    boot_data = []\n",
    "    for i in tqdm(range(boot_it)): # извлекаем подвыборки\n",
    "        samples_1 = column_1.sample(\n",
    "            boot_len,\n",
    "            replace = True # параметр возвращения\n",
    "        ).values\n",
    "        \n",
    "        samples_2 = column_2.sample(\n",
    "            boot_len,\n",
    "            replace = True\n",
    "        ).values\n",
    "        \n",
    "        boot_data.append(statistic(samples_1-samples_2)) # mean() - применяем статистику\n",
    "        \n",
    "    pd_boot_data = pd.DataFrame(boot_data)\n",
    "        \n",
    "    left_quant = (1 - bootstrap_conf_level)/2\n",
    "    right_quant = 1 - (1 - bootstrap_conf_level) / 2\n",
    "    ci = pd_boot_data.quantile([left_quant, right_quant])\n",
    "        \n",
    "    p_1 = norm.cdf(\n",
    "        x = 0,\n",
    "        loc = np.mean(boot_data),\n",
    "        scale = np.std(boot_data)\n",
    "    )\n",
    "    p_2 = norm.cdf(\n",
    "        x = 0,\n",
    "        loc = -np.mean(boot_data),\n",
    "        scale = np.std(boot_data)\n",
    "    )\n",
    "    p_value = min(p_1, p_2) * 2\n",
    "        \n",
    "    # Визуализация\n",
    "    plt.hist(pd_boot_data[0], bins = 50)\n",
    "    \n",
    "    plt.style.use('ggplot')\n",
    "    plt.vlines(ci,ymin=0,ymax=50,linestyle='--')\n",
    "    plt.xlabel('boot_data')\n",
    "    plt.ylabel('frequency')\n",
    "    plt.title(\"Histogram of boot_data\")\n",
    "    plt.show()\n",
    "       \n",
    "    return {\"boot_data\": boot_data,\n",
    "            \"ci\": ci,\n",
    "            \"p_value\": p_value}"
   ]
  },
  {
   "cell_type": "code",
   "execution_count": 91,
   "id": "d45b9be3",
   "metadata": {},
   "outputs": [],
   "source": [
    "#создаем 2 дата-сета, первый по тестовой, во второй- по контрольой группе (x,y колонки соответственно)\n",
    "ab1 = pd.DataFrame()\n",
    "ab2 = pd.DataFrame()\n",
    "ab1['x']=ab.converted[ab['group']=='control']\n",
    "ab2['y']=ab.converted[ab['group']=='treatment']"
   ]
  },
  {
   "cell_type": "code",
   "execution_count": 92,
   "id": "44221d0d",
   "metadata": {},
   "outputs": [
    {
     "ename": "AttributeError",
     "evalue": "'DataFrame' object has no attribute 'y'",
     "output_type": "error",
     "traceback": [
      "\u001b[0;31m---------------------------------------------------------------------------\u001b[0m",
      "\u001b[0;31mAttributeError\u001b[0m                            Traceback (most recent call last)",
      "Input \u001b[0;32mIn [92]\u001b[0m, in \u001b[0;36m<cell line: 1>\u001b[0;34m()\u001b[0m\n\u001b[0;32m----> 1\u001b[0m booted_data \u001b[38;5;241m=\u001b[39m get_bootstrap(ab_1\u001b[38;5;241m.\u001b[39mx, \u001b[43mab_2\u001b[49m\u001b[38;5;241;43m.\u001b[39;49m\u001b[43my\u001b[49m, boot_it \u001b[38;5;241m=\u001b[39m \u001b[38;5;241m2000\u001b[39m)\n",
      "File \u001b[0;32m/opt/anaconda3/lib/python3.9/site-packages/pandas/core/generic.py:5575\u001b[0m, in \u001b[0;36mNDFrame.__getattr__\u001b[0;34m(self, name)\u001b[0m\n\u001b[1;32m   5568\u001b[0m \u001b[38;5;28;01mif\u001b[39;00m (\n\u001b[1;32m   5569\u001b[0m     name \u001b[38;5;129;01mnot\u001b[39;00m \u001b[38;5;129;01min\u001b[39;00m \u001b[38;5;28mself\u001b[39m\u001b[38;5;241m.\u001b[39m_internal_names_set\n\u001b[1;32m   5570\u001b[0m     \u001b[38;5;129;01mand\u001b[39;00m name \u001b[38;5;129;01mnot\u001b[39;00m \u001b[38;5;129;01min\u001b[39;00m \u001b[38;5;28mself\u001b[39m\u001b[38;5;241m.\u001b[39m_metadata\n\u001b[1;32m   5571\u001b[0m     \u001b[38;5;129;01mand\u001b[39;00m name \u001b[38;5;129;01mnot\u001b[39;00m \u001b[38;5;129;01min\u001b[39;00m \u001b[38;5;28mself\u001b[39m\u001b[38;5;241m.\u001b[39m_accessors\n\u001b[1;32m   5572\u001b[0m     \u001b[38;5;129;01mand\u001b[39;00m \u001b[38;5;28mself\u001b[39m\u001b[38;5;241m.\u001b[39m_info_axis\u001b[38;5;241m.\u001b[39m_can_hold_identifiers_and_holds_name(name)\n\u001b[1;32m   5573\u001b[0m ):\n\u001b[1;32m   5574\u001b[0m     \u001b[38;5;28;01mreturn\u001b[39;00m \u001b[38;5;28mself\u001b[39m[name]\n\u001b[0;32m-> 5575\u001b[0m \u001b[38;5;28;01mreturn\u001b[39;00m \u001b[38;5;28;43mobject\u001b[39;49m\u001b[38;5;241;43m.\u001b[39;49m\u001b[38;5;21;43m__getattribute__\u001b[39;49m\u001b[43m(\u001b[49m\u001b[38;5;28;43mself\u001b[39;49m\u001b[43m,\u001b[49m\u001b[43m \u001b[49m\u001b[43mname\u001b[49m\u001b[43m)\u001b[49m\n",
      "\u001b[0;31mAttributeError\u001b[0m: 'DataFrame' object has no attribute 'y'"
     ]
    }
   ],
   "source": [
    "booted_data = get_bootstrap(ab_1.x, ab_2.y, boot_it = 2000) # в результате хранится разница двух распределений, ДИ и pvalue"
   ]
  },
  {
   "cell_type": "code",
   "execution_count": null,
   "id": "986eabda",
   "metadata": {},
   "outputs": [],
   "source": [
    "booted_data[\"p_value\"] #значение p-value > 0.05"
   ]
  },
  {
   "cell_type": "code",
   "execution_count": null,
   "id": "cd367300",
   "metadata": {},
   "outputs": [],
   "source": [
    "booted_data[\"ci\"] #в границы доверительного интервала попадает 0"
   ]
  },
  {
   "cell_type": "markdown",
   "id": "3f8c3b0b",
   "metadata": {},
   "source": [
    "#Ноль попадает в доверительный интервал - это видно по графику и по выведенным значениям доверительного интервала.\n",
    "\n",
    "А также значение p-value > 0.05. Это означает, что мы принимаем нулевую гипотезу, и говорим о том, что разницы между тестируемыми группами нет, что было также подтверждено проведенным ранее непараметрическим тестом Манна-Уитни"
   ]
  },
  {
   "cell_type": "code",
   "execution_count": null,
   "id": "db6c2fb0",
   "metadata": {},
   "outputs": [],
   "source": [
    "#Попробуем провести анализ bootstrap на группах old_page и new_page\n",
    "ab_3 = pd.DataFrame()\n",
    "ab_4 = pd.DataFrame()\n",
    "ab_3['x']=ab.converted[ab['landing_page']=='new_page']\n",
    "ab_4['y']=ab.converted[ab['landing_page']=='old_page']"
   ]
  },
  {
   "cell_type": "code",
   "execution_count": null,
   "id": "bd1d624c",
   "metadata": {},
   "outputs": [],
   "source": [
    "# Объявим функцию, которая позволит проверять гипотезы с помощью бутстрапа (статистика - медиана)\n",
    "def get_bootstrap_1(\n",
    "    column_1, # числовые значения первой выборки\n",
    "    column_2, # числовые значения второй выборки\n",
    "    boot_it = 1000, # количество бутстрэп-подвыборок\n",
    "    statistic = np.median, # интересующая нас статистика\n",
    "    bootstrap_conf_level = 0.95 # уровень значимости\n",
    "):\n",
    "    boot_len = max([len(column_1), len(column_2)])\n",
    "    boot_data = []\n",
    "    for i in tqdm(range(boot_it)): # извлекаем подвыборки\n",
    "        samples_1 = column_1.sample(\n",
    "            boot_len,\n",
    "            replace = True # параметр возвращения\n",
    "        ).values\n",
    "        \n",
    "        samples_2 = column_2.sample(\n",
    "            boot_len,\n",
    "            replace = True\n",
    "        ).values\n",
    "        \n",
    "        boot_data.append(statistic(samples_1-samples_2)) # mean() - применяем статистику\n",
    "        \n",
    "    pd_boot_data = pd.DataFrame(boot_data)\n",
    "        \n",
    "    left_quant = (1 - bootstrap_conf_level)/2\n",
    "    right_quant = 1 - (1 - bootstrap_conf_level) / 2\n",
    "    ci = pd_boot_data.quantile([left_quant, right_quant])\n",
    "        \n",
    "    p_1 = norm.cdf(\n",
    "        x = 0,\n",
    "        loc = np.mean(boot_data),\n",
    "        scale = np.std(boot_data)\n",
    "    )\n",
    "    p_2 = norm.cdf(\n",
    "        x = 0,\n",
    "        loc = -np.mean(boot_data),\n",
    "        scale = np.std(boot_data)\n",
    "    )\n",
    "    p_value = min(p_1, p_2) * 2\n",
    "        \n",
    "    # Визуализация\n",
    "    plt.hist(pd_boot_data[0], bins = 50)\n",
    "    \n",
    "    plt.style.use('ggplot')\n",
    "    plt.vlines(ci,ymin=0,ymax=50,linestyle='--')\n",
    "    plt.xlabel('boot_data')\n",
    "    plt.ylabel('frequency')\n",
    "    plt.title(\"Histogram of boot_data\")\n",
    "    plt.show()\n",
    "       \n",
    "    return {\"boot_data\": boot_data,\n",
    "            \"ci\": ci,\n",
    "            \"p_value\": p_value}"
   ]
  },
  {
   "cell_type": "code",
   "execution_count": null,
   "id": "848beecc",
   "metadata": {},
   "outputs": [],
   "source": [
    "booted_data_1 = get_bootstrap(ab_3.x, ab_4.y, boot_it = 2000) # в результате хранится разница двух распределений, ДИ и pvalue"
   ]
  },
  {
   "cell_type": "code",
   "execution_count": 93,
   "id": "0a822bde",
   "metadata": {},
   "outputs": [
    {
     "data": {
      "text/plain": [
       "0.2191283316863294"
      ]
     },
     "execution_count": 93,
     "metadata": {},
     "output_type": "execute_result"
    }
   ],
   "source": [
    "booted_data_1[\"p_value\"]"
   ]
  },
  {
   "cell_type": "code",
   "execution_count": 94,
   "id": "cde20a44",
   "metadata": {},
   "outputs": [
    {
     "data": {
      "text/html": [
       "<div>\n",
       "<style scoped>\n",
       "    .dataframe tbody tr th:only-of-type {\n",
       "        vertical-align: middle;\n",
       "    }\n",
       "\n",
       "    .dataframe tbody tr th {\n",
       "        vertical-align: top;\n",
       "    }\n",
       "\n",
       "    .dataframe thead th {\n",
       "        text-align: right;\n",
       "    }\n",
       "</style>\n",
       "<table border=\"1\" class=\"dataframe\">\n",
       "  <thead>\n",
       "    <tr style=\"text-align: right;\">\n",
       "      <th></th>\n",
       "      <th>0</th>\n",
       "    </tr>\n",
       "  </thead>\n",
       "  <tbody>\n",
       "    <tr>\n",
       "      <th>0.0250</th>\n",
       "      <td>-0.0040</td>\n",
       "    </tr>\n",
       "    <tr>\n",
       "      <th>0.9750</th>\n",
       "      <td>0.0008</td>\n",
       "    </tr>\n",
       "  </tbody>\n",
       "</table>\n",
       "</div>"
      ],
      "text/plain": [
       "             0\n",
       "0.0250 -0.0040\n",
       "0.9750  0.0008"
      ]
     },
     "execution_count": 94,
     "metadata": {},
     "output_type": "execute_result"
    }
   ],
   "source": [
    "booted_data_1[\"ci\"]"
   ]
  },
  {
   "cell_type": "markdown",
   "id": "81a74d3f",
   "metadata": {},
   "source": [
    "Результаты идентчные предыдущим"
   ]
  },
  {
   "cell_type": "code",
   "execution_count": 95,
   "id": "36a43787",
   "metadata": {},
   "outputs": [
    {
     "data": {
      "text/plain": [
       "new_pagetreatment    144392\n",
       "old_pagecontrol      144300\n",
       "new_pagecontrol        1007\n",
       "old_pagetreatment       991\n",
       "Name: new, dtype: int64"
      ]
     },
     "execution_count": 95,
     "metadata": {},
     "output_type": "execute_result"
    }
   ],
   "source": [
    "#Теперь попробуем удалить группы пользователей, где не совпадает условие control=old_page и treatment=new_page\n",
    "ab.new.value_counts()"
   ]
  },
  {
   "cell_type": "code",
   "execution_count": 96,
   "id": "7c90a472",
   "metadata": {},
   "outputs": [],
   "source": [
    "ab_2 = ab.loc[ab['new'] != 'new_pagecontrol']"
   ]
  },
  {
   "cell_type": "code",
   "execution_count": 97,
   "id": "e4086ffe",
   "metadata": {},
   "outputs": [
    {
     "data": {
      "text/plain": [
       "new_pagetreatment    144392\n",
       "old_pagecontrol      144300\n",
       "old_pagetreatment       991\n",
       "Name: new, dtype: int64"
      ]
     },
     "execution_count": 97,
     "metadata": {},
     "output_type": "execute_result"
    }
   ],
   "source": [
    "ab_2.new.value_counts()"
   ]
  },
  {
   "cell_type": "code",
   "execution_count": 98,
   "id": "23d673b0",
   "metadata": {},
   "outputs": [],
   "source": [
    "ab_2 = ab_2.loc[ab['new'] != 'old_pagetreatment']"
   ]
  },
  {
   "cell_type": "code",
   "execution_count": 99,
   "id": "2a75e051",
   "metadata": {},
   "outputs": [
    {
     "data": {
      "text/plain": [
       "new_pagetreatment    144392\n",
       "old_pagecontrol      144300\n",
       "Name: new, dtype: int64"
      ]
     },
     "execution_count": 99,
     "metadata": {},
     "output_type": "execute_result"
    }
   ],
   "source": [
    "ab_2.new.value_counts()"
   ]
  },
  {
   "cell_type": "code",
   "execution_count": 100,
   "id": "b8c158c5",
   "metadata": {},
   "outputs": [
    {
     "data": {
      "text/plain": [
       "treatment    144392\n",
       "control      144300\n",
       "Name: group, dtype: int64"
      ]
     },
     "execution_count": 100,
     "metadata": {},
     "output_type": "execute_result"
    }
   ],
   "source": [
    "ab_2.group.value_counts()"
   ]
  },
  {
   "cell_type": "markdown",
   "id": "02543b47",
   "metadata": {},
   "source": [
    "Повторим предыдущих два анализа: Манна Уитни и Bootstrap на новых данных"
   ]
  },
  {
   "cell_type": "code",
   "execution_count": 101,
   "id": "1074cfa5",
   "metadata": {},
   "outputs": [
    {
     "data": {
      "text/plain": [
       "MannwhitneyuResult(statistic=10402509940.0, pvalue=0.2217747025154242)"
      ]
     },
     "execution_count": 101,
     "metadata": {},
     "output_type": "execute_result"
    }
   ],
   "source": [
    "mannwhitneyu(ab_2.loc[ab_2.group == 'treatment', 'converted'], ab_2.loc[ab_2.group == 'control', 'converted'])"
   ]
  },
  {
   "cell_type": "code",
   "execution_count": 102,
   "id": "7af1622a",
   "metadata": {},
   "outputs": [],
   "source": [
    "#Попробуем провести анализ bootstrap на группах old_page и new_page\n",
    "ab_5 = pd.DataFrame()\n",
    "ab_6 = pd.DataFrame()\n",
    "ab_5['x']=ab_2.converted[ab['landing_page']=='new_page']\n",
    "ab_6['y']=ab_2.converted[ab['landing_page']=='old_page']"
   ]
  },
  {
   "cell_type": "code",
   "execution_count": 105,
   "id": "a913e42a",
   "metadata": {},
   "outputs": [
    {
     "data": {
      "application/vnd.jupyter.widget-view+json": {
       "model_id": "f058de2d08794d98b0edaddd2fabe38f",
       "version_major": 2,
       "version_minor": 0
      },
      "text/plain": [
       "  0%|          | 0/2000 [00:00<?, ?it/s]"
      ]
     },
     "metadata": {},
     "output_type": "display_data"
    },
    {
     "data": {
      "image/png": "[encoded data removed]",
      "text/plain": [
       "<Figure size 432x288 with 1 Axes>"
      ]
     },
     "metadata": {},
     "output_type": "display_data"
    }
   ],
   "source": [
    "booted_data_2 = get_bootstrap(ab_5.x, ab_6.y, boot_it = 2000) # в результате хранится разница двух распределений, ДИ и pvalue"
   ]
  },
  {
   "cell_type": "code",
   "execution_count": 106,
   "id": "e8b87e88",
   "metadata": {},
   "outputs": [
    {
     "data": {
      "text/plain": [
       "0.20662172421547897"
      ]
     },
     "execution_count": 106,
     "metadata": {},
     "output_type": "execute_result"
    }
   ],
   "source": [
    "booted_data_1[\"p_value\"]"
   ]
  },
  {
   "cell_type": "code",
   "execution_count": 107,
   "id": "a097465c",
   "metadata": {},
   "outputs": [
    {
     "data": {
      "text/html": [
       "<div>\n",
       "<style scoped>\n",
       "    .dataframe tbody tr th:only-of-type {\n",
       "        vertical-align: middle;\n",
       "    }\n",
       "\n",
       "    .dataframe tbody tr th {\n",
       "        vertical-align: top;\n",
       "    }\n",
       "\n",
       "    .dataframe thead th {\n",
       "        text-align: right;\n",
       "    }\n",
       "</style>\n",
       "<table border=\"1\" class=\"dataframe\">\n",
       "  <thead>\n",
       "    <tr style=\"text-align: right;\">\n",
       "      <th></th>\n",
       "      <th>0</th>\n",
       "    </tr>\n",
       "  </thead>\n",
       "  <tbody>\n",
       "    <tr>\n",
       "      <th>0.0250</th>\n",
       "      <td>-0.0038</td>\n",
       "    </tr>\n",
       "    <tr>\n",
       "      <th>0.9750</th>\n",
       "      <td>0.0008</td>\n",
       "    </tr>\n",
       "  </tbody>\n",
       "</table>\n",
       "</div>"
      ],
      "text/plain": [
       "             0\n",
       "0.0250 -0.0038\n",
       "0.9750  0.0008"
      ]
     },
     "execution_count": 107,
     "metadata": {},
     "output_type": "execute_result"
    }
   ],
   "source": [
    "booted_data_2[\"ci\"]"
   ]
  },
  {
   "cell_type": "markdown",
   "id": "710d2e0f",
   "metadata": {},
   "source": [
    "Результат идентичный предыдущем - разница статстически не значима, улучшения/изменения не влияют на результат конвертации пользователей"
   ]
  }
 ],
 "metadata": {
  "kernelspec": {
   "display_name": "Python 3 (ipykernel)",
   "language": "python",
   "name": "python3"
  },
  "language_info": {
   "codemirror_mode": {
    "name": "ipython",
    "version": 3
   },
   "file_extension": ".py",
   "mimetype": "text/x-python",
   "name": "python",
   "nbconvert_exporter": "python",
   "pygments_lexer": "ipython3",
   "version": "3.9.12"
  }
 },
 "nbformat": 4,
 "nbformat_minor": 5
}
